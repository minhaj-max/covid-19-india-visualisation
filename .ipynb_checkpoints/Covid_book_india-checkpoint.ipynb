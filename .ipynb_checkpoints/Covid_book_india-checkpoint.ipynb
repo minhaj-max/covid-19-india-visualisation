{
 "cells": [
  {
   "cell_type": "markdown",
   "metadata": {},
   "source": [
    "### COVID 19 INDIA DATA VISUALISATION AND ANALYSIS USING PLOTLY OFFLINE"
   ]
  },
  {
   "cell_type": "markdown",
   "metadata": {},
   "source": [
    "Datasets available on Kaggle website, you can download it from __[here](https://www.kaggle.com/sudalairajkumar/covid19-in-india)__."
   ]
  },
  {
   "cell_type": "code",
   "execution_count": 2,
   "metadata": {},
   "outputs": [
    {
     "name": "stdout",
     "output_type": "stream",
     "text": [
      "Requirement already satisfied: plotly in c:\\users\\minha\\appdata\\local\\programs\\python\\python38-32\\lib\\site-packages (4.10.0)\n",
      "Requirement already satisfied: six in c:\\users\\minha\\appdata\\local\\programs\\python\\python38-32\\lib\\site-packages (from plotly) (1.15.0)\n",
      "Requirement already satisfied: retrying>=1.3.3 in c:\\users\\minha\\appdata\\local\\programs\\python\\python38-32\\lib\\site-packages (from plotly) (1.3.3)\n"
     ]
    }
   ],
   "source": [
    "# importing necessary libraries\n",
    "import pandas as pd\n",
    "import numpy as np\n",
    "!pip install plotly\n",
    "import plotly.offline as pyo\n",
    "import plotly.graph_objects as go"
   ]
  },
  {
   "cell_type": "code",
   "execution_count": 3,
   "metadata": {},
   "outputs": [
    {
     "ename": "FileNotFoundError",
     "evalue": "[Errno 2] No such file or directory: 'covid_19_india_22_09.csv'",
     "output_type": "error",
     "traceback": [
      "\u001b[1;31m---------------------------------------------------------------------------\u001b[0m",
      "\u001b[1;31mFileNotFoundError\u001b[0m                         Traceback (most recent call last)",
      "\u001b[1;32m<ipython-input-3-e11af6df147c>\u001b[0m in \u001b[0;36m<module>\u001b[1;34m\u001b[0m\n\u001b[0;32m      1\u001b[0m \u001b[1;31m# reading into the datset\u001b[0m\u001b[1;33m\u001b[0m\u001b[1;33m\u001b[0m\u001b[1;33m\u001b[0m\u001b[0m\n\u001b[1;32m----> 2\u001b[1;33m \u001b[0mdf\u001b[0m \u001b[1;33m=\u001b[0m \u001b[0mpd\u001b[0m\u001b[1;33m.\u001b[0m\u001b[0mread_csv\u001b[0m\u001b[1;33m(\u001b[0m\u001b[1;34m'covid_19_india_22_09.csv'\u001b[0m\u001b[1;33m)\u001b[0m\u001b[1;33m\u001b[0m\u001b[1;33m\u001b[0m\u001b[0m\n\u001b[0m\u001b[0;32m      3\u001b[0m \u001b[0mdf\u001b[0m\u001b[1;33m.\u001b[0m\u001b[0mhead\u001b[0m\u001b[1;33m(\u001b[0m\u001b[1;33m)\u001b[0m\u001b[1;33m\u001b[0m\u001b[1;33m\u001b[0m\u001b[0m\n",
      "\u001b[1;32mc:\\users\\minha\\appdata\\local\\programs\\python\\python38-32\\lib\\site-packages\\pandas\\io\\parsers.py\u001b[0m in \u001b[0;36mread_csv\u001b[1;34m(filepath_or_buffer, sep, delimiter, header, names, index_col, usecols, squeeze, prefix, mangle_dupe_cols, dtype, engine, converters, true_values, false_values, skipinitialspace, skiprows, skipfooter, nrows, na_values, keep_default_na, na_filter, verbose, skip_blank_lines, parse_dates, infer_datetime_format, keep_date_col, date_parser, dayfirst, cache_dates, iterator, chunksize, compression, thousands, decimal, lineterminator, quotechar, quoting, doublequote, escapechar, comment, encoding, dialect, error_bad_lines, warn_bad_lines, delim_whitespace, low_memory, memory_map, float_precision)\u001b[0m\n\u001b[0;32m    684\u001b[0m     )\n\u001b[0;32m    685\u001b[0m \u001b[1;33m\u001b[0m\u001b[0m\n\u001b[1;32m--> 686\u001b[1;33m     \u001b[1;32mreturn\u001b[0m \u001b[0m_read\u001b[0m\u001b[1;33m(\u001b[0m\u001b[0mfilepath_or_buffer\u001b[0m\u001b[1;33m,\u001b[0m \u001b[0mkwds\u001b[0m\u001b[1;33m)\u001b[0m\u001b[1;33m\u001b[0m\u001b[1;33m\u001b[0m\u001b[0m\n\u001b[0m\u001b[0;32m    687\u001b[0m \u001b[1;33m\u001b[0m\u001b[0m\n\u001b[0;32m    688\u001b[0m \u001b[1;33m\u001b[0m\u001b[0m\n",
      "\u001b[1;32mc:\\users\\minha\\appdata\\local\\programs\\python\\python38-32\\lib\\site-packages\\pandas\\io\\parsers.py\u001b[0m in \u001b[0;36m_read\u001b[1;34m(filepath_or_buffer, kwds)\u001b[0m\n\u001b[0;32m    450\u001b[0m \u001b[1;33m\u001b[0m\u001b[0m\n\u001b[0;32m    451\u001b[0m     \u001b[1;31m# Create the parser.\u001b[0m\u001b[1;33m\u001b[0m\u001b[1;33m\u001b[0m\u001b[1;33m\u001b[0m\u001b[0m\n\u001b[1;32m--> 452\u001b[1;33m     \u001b[0mparser\u001b[0m \u001b[1;33m=\u001b[0m \u001b[0mTextFileReader\u001b[0m\u001b[1;33m(\u001b[0m\u001b[0mfp_or_buf\u001b[0m\u001b[1;33m,\u001b[0m \u001b[1;33m**\u001b[0m\u001b[0mkwds\u001b[0m\u001b[1;33m)\u001b[0m\u001b[1;33m\u001b[0m\u001b[1;33m\u001b[0m\u001b[0m\n\u001b[0m\u001b[0;32m    453\u001b[0m \u001b[1;33m\u001b[0m\u001b[0m\n\u001b[0;32m    454\u001b[0m     \u001b[1;32mif\u001b[0m \u001b[0mchunksize\u001b[0m \u001b[1;32mor\u001b[0m \u001b[0miterator\u001b[0m\u001b[1;33m:\u001b[0m\u001b[1;33m\u001b[0m\u001b[1;33m\u001b[0m\u001b[0m\n",
      "\u001b[1;32mc:\\users\\minha\\appdata\\local\\programs\\python\\python38-32\\lib\\site-packages\\pandas\\io\\parsers.py\u001b[0m in \u001b[0;36m__init__\u001b[1;34m(self, f, engine, **kwds)\u001b[0m\n\u001b[0;32m    934\u001b[0m             \u001b[0mself\u001b[0m\u001b[1;33m.\u001b[0m\u001b[0moptions\u001b[0m\u001b[1;33m[\u001b[0m\u001b[1;34m\"has_index_names\"\u001b[0m\u001b[1;33m]\u001b[0m \u001b[1;33m=\u001b[0m \u001b[0mkwds\u001b[0m\u001b[1;33m[\u001b[0m\u001b[1;34m\"has_index_names\"\u001b[0m\u001b[1;33m]\u001b[0m\u001b[1;33m\u001b[0m\u001b[1;33m\u001b[0m\u001b[0m\n\u001b[0;32m    935\u001b[0m \u001b[1;33m\u001b[0m\u001b[0m\n\u001b[1;32m--> 936\u001b[1;33m         \u001b[0mself\u001b[0m\u001b[1;33m.\u001b[0m\u001b[0m_make_engine\u001b[0m\u001b[1;33m(\u001b[0m\u001b[0mself\u001b[0m\u001b[1;33m.\u001b[0m\u001b[0mengine\u001b[0m\u001b[1;33m)\u001b[0m\u001b[1;33m\u001b[0m\u001b[1;33m\u001b[0m\u001b[0m\n\u001b[0m\u001b[0;32m    937\u001b[0m \u001b[1;33m\u001b[0m\u001b[0m\n\u001b[0;32m    938\u001b[0m     \u001b[1;32mdef\u001b[0m \u001b[0mclose\u001b[0m\u001b[1;33m(\u001b[0m\u001b[0mself\u001b[0m\u001b[1;33m)\u001b[0m\u001b[1;33m:\u001b[0m\u001b[1;33m\u001b[0m\u001b[1;33m\u001b[0m\u001b[0m\n",
      "\u001b[1;32mc:\\users\\minha\\appdata\\local\\programs\\python\\python38-32\\lib\\site-packages\\pandas\\io\\parsers.py\u001b[0m in \u001b[0;36m_make_engine\u001b[1;34m(self, engine)\u001b[0m\n\u001b[0;32m   1166\u001b[0m     \u001b[1;32mdef\u001b[0m \u001b[0m_make_engine\u001b[0m\u001b[1;33m(\u001b[0m\u001b[0mself\u001b[0m\u001b[1;33m,\u001b[0m \u001b[0mengine\u001b[0m\u001b[1;33m=\u001b[0m\u001b[1;34m\"c\"\u001b[0m\u001b[1;33m)\u001b[0m\u001b[1;33m:\u001b[0m\u001b[1;33m\u001b[0m\u001b[1;33m\u001b[0m\u001b[0m\n\u001b[0;32m   1167\u001b[0m         \u001b[1;32mif\u001b[0m \u001b[0mengine\u001b[0m \u001b[1;33m==\u001b[0m \u001b[1;34m\"c\"\u001b[0m\u001b[1;33m:\u001b[0m\u001b[1;33m\u001b[0m\u001b[1;33m\u001b[0m\u001b[0m\n\u001b[1;32m-> 1168\u001b[1;33m             \u001b[0mself\u001b[0m\u001b[1;33m.\u001b[0m\u001b[0m_engine\u001b[0m \u001b[1;33m=\u001b[0m \u001b[0mCParserWrapper\u001b[0m\u001b[1;33m(\u001b[0m\u001b[0mself\u001b[0m\u001b[1;33m.\u001b[0m\u001b[0mf\u001b[0m\u001b[1;33m,\u001b[0m \u001b[1;33m**\u001b[0m\u001b[0mself\u001b[0m\u001b[1;33m.\u001b[0m\u001b[0moptions\u001b[0m\u001b[1;33m)\u001b[0m\u001b[1;33m\u001b[0m\u001b[1;33m\u001b[0m\u001b[0m\n\u001b[0m\u001b[0;32m   1169\u001b[0m         \u001b[1;32melse\u001b[0m\u001b[1;33m:\u001b[0m\u001b[1;33m\u001b[0m\u001b[1;33m\u001b[0m\u001b[0m\n\u001b[0;32m   1170\u001b[0m             \u001b[1;32mif\u001b[0m \u001b[0mengine\u001b[0m \u001b[1;33m==\u001b[0m \u001b[1;34m\"python\"\u001b[0m\u001b[1;33m:\u001b[0m\u001b[1;33m\u001b[0m\u001b[1;33m\u001b[0m\u001b[0m\n",
      "\u001b[1;32mc:\\users\\minha\\appdata\\local\\programs\\python\\python38-32\\lib\\site-packages\\pandas\\io\\parsers.py\u001b[0m in \u001b[0;36m__init__\u001b[1;34m(self, src, **kwds)\u001b[0m\n\u001b[0;32m   1996\u001b[0m         \u001b[0mkwds\u001b[0m\u001b[1;33m[\u001b[0m\u001b[1;34m\"usecols\"\u001b[0m\u001b[1;33m]\u001b[0m \u001b[1;33m=\u001b[0m \u001b[0mself\u001b[0m\u001b[1;33m.\u001b[0m\u001b[0musecols\u001b[0m\u001b[1;33m\u001b[0m\u001b[1;33m\u001b[0m\u001b[0m\n\u001b[0;32m   1997\u001b[0m \u001b[1;33m\u001b[0m\u001b[0m\n\u001b[1;32m-> 1998\u001b[1;33m         \u001b[0mself\u001b[0m\u001b[1;33m.\u001b[0m\u001b[0m_reader\u001b[0m \u001b[1;33m=\u001b[0m \u001b[0mparsers\u001b[0m\u001b[1;33m.\u001b[0m\u001b[0mTextReader\u001b[0m\u001b[1;33m(\u001b[0m\u001b[0msrc\u001b[0m\u001b[1;33m,\u001b[0m \u001b[1;33m**\u001b[0m\u001b[0mkwds\u001b[0m\u001b[1;33m)\u001b[0m\u001b[1;33m\u001b[0m\u001b[1;33m\u001b[0m\u001b[0m\n\u001b[0m\u001b[0;32m   1999\u001b[0m         \u001b[0mself\u001b[0m\u001b[1;33m.\u001b[0m\u001b[0munnamed_cols\u001b[0m \u001b[1;33m=\u001b[0m \u001b[0mself\u001b[0m\u001b[1;33m.\u001b[0m\u001b[0m_reader\u001b[0m\u001b[1;33m.\u001b[0m\u001b[0munnamed_cols\u001b[0m\u001b[1;33m\u001b[0m\u001b[1;33m\u001b[0m\u001b[0m\n\u001b[0;32m   2000\u001b[0m \u001b[1;33m\u001b[0m\u001b[0m\n",
      "\u001b[1;32mpandas\\_libs\\parsers.pyx\u001b[0m in \u001b[0;36mpandas._libs.parsers.TextReader.__cinit__\u001b[1;34m()\u001b[0m\n",
      "\u001b[1;32mpandas\\_libs\\parsers.pyx\u001b[0m in \u001b[0;36mpandas._libs.parsers.TextReader._setup_parser_source\u001b[1;34m()\u001b[0m\n",
      "\u001b[1;31mFileNotFoundError\u001b[0m: [Errno 2] No such file or directory: 'covid_19_india_22_09.csv'"
     ]
    }
   ],
   "source": [
    "# reading into the datset\n",
    "df = pd.read_csv('covid_19_india_22_09.csv')\n",
    "df.head()"
   ]
  },
  {
   "cell_type": "markdown",
   "metadata": {},
   "source": [
    "### BASIC TREND ANALYSIS"
   ]
  },
  {
   "cell_type": "code",
   "execution_count": null,
   "metadata": {},
   "outputs": [],
   "source": [
    "#Cleaning data and performing some basic datetime conversion. Also dataset messes the name of Telagana quite a\n",
    "#few times tried cleaning and accounting for the same.\n",
    "\n",
    "df.drop(['ConfirmedIndianNational', 'ConfirmedForeignNational'], axis = 1, inplace = True)\n",
    "df.rename(columns = {'State/UnionTerritory':'state_UT'}, inplace = True)\n",
    "df['Date'] = pd.to_datetime(df['Date'], dayfirst = True)\n",
    "df['month'] = pd.to_datetime(df['Date'], format='%m').dt.month_name().str.slice(stop=3)\n",
    "df['state_UT'] = df['state_UT'].str.replace('Telengana***', 'Telengana', regex = False)\n",
    "df['state_UT'] = df['state_UT'].str.replace('Telangana***', 'Telengana', regex = False)\n",
    "df['state_UT'] = df['state_UT'].str.replace('Telangana', 'Telengana', regex = False)\n",
    "df.drop(['Sno'], axis = 1, inplace = True)\n",
    "df.head()"
   ]
  },
  {
   "cell_type": "code",
   "execution_count": null,
   "metadata": {},
   "outputs": [],
   "source": [
    "#plotting the confirmed cases comparision between states\n",
    "states = df['state_UT'].unique()\n",
    "\n",
    "data_states = []\n",
    "n = 0\n",
    "for state in states:\n",
    "    data = go.Scatter(x = df[df['state_UT'] == state].Date,\n",
    "                  y = df[df['state_UT'] == state].Confirmed,\n",
    "                  name = state)\n",
    "    data_states.append(data)\n",
    "    n +=1\n",
    "    \n",
    "layout = go.Layout(\n",
    "    plot_bgcolor='rgba(0,0,0,0)',\n",
    "    xaxis = dict(rangeslider_visible = True),\n",
    "    yaxis = dict(fixedrange = False),\n",
    "    autosize = True\n",
    ")\n",
    "\n",
    "fig = go.Figure(data = data_states, layout = layout)\n",
    "\n",
    "pyo.plot(fig, filename = 'Comparison_states.html')"
   ]
  },
  {
   "cell_type": "code",
   "execution_count": null,
   "metadata": {},
   "outputs": [],
   "source": [
    "df1 = df\n",
    "df1 = df1.groupby('Date').sum()\n",
    "df1.head()"
   ]
  },
  {
   "cell_type": "code",
   "execution_count": null,
   "metadata": {},
   "outputs": [],
   "source": [
    "#determine active cases based on available cured, confirmed and death cases.\n",
    "df1['active'] = df1['Confirmed']-df1['Cured']-df1['Deaths']\n",
    "df1.head()"
   ]
  },
  {
   "cell_type": "code",
   "execution_count": null,
   "metadata": {},
   "outputs": [],
   "source": [
    "#plotting daywise covid cases across india\n",
    "data_sets = []\n",
    "series = list(df1.columns)\n",
    "\n",
    "for col in series:\n",
    "    data = go.Scatter(x = df1.index,\n",
    "                  y = df1[col],\n",
    "                  name = col,\n",
    "                  fill='tozeroy')\n",
    "    data_sets.append(data)\n",
    "\n",
    "layout = go.Layout(\n",
    "    plot_bgcolor='rgba(0,0,0,0)',\n",
    "    xaxis = dict(rangeslider_visible = True),\n",
    "    yaxis = dict(fixedrange = False),\n",
    "    autosize = True\n",
    ")\n",
    "\n",
    "fig = go.Figure(data = data_sets, layout = layout)\n",
    "\n",
    "pyo.plot(fig, filename = 'Comparison_cases.html')"
   ]
  },
  {
   "cell_type": "code",
   "execution_count": null,
   "metadata": {},
   "outputs": [],
   "source": [
    "# Identifying per day changes in the active, death and confirmed cases\n",
    "df1['active_change'] = df1['active'].diff()\n",
    "df1['confirmed_change'] = df1['Confirmed'].diff()\n",
    "df1['deaths_change'] = df1['Deaths'].diff()\n",
    "df1['cured_change'] = df1['Cured'].diff()\n",
    "df1.head()"
   ]
  },
  {
   "cell_type": "code",
   "execution_count": null,
   "metadata": {},
   "outputs": [],
   "source": [
    "changes = list(df1.columns)[4:]\n",
    "changes"
   ]
  },
  {
   "cell_type": "code",
   "execution_count": null,
   "metadata": {},
   "outputs": [],
   "source": [
    "#plotting per day changes across the complete time period\n",
    "data_change = []\n",
    "changes = list(df1.columns)[4:]\n",
    "\n",
    "for change in changes:\n",
    "    data = go.Scatter(x = df1.index,\n",
    "                  y = df1[change],\n",
    "                  name = change,\n",
    "                  fill='tozeroy')\n",
    "    data_change.append(data)\n",
    "\n",
    "layout = go.Layout(\n",
    "    plot_bgcolor='white',\n",
    "    autosize = True,\n",
    "    xaxis = dict(rangeslider_visible = True),\n",
    "    yaxis = dict(title = 'Per day case', fixedrange = False),\n",
    "    title = dict(text = 'Daily COVID cases', x = 0.5, y = 0.9, xanchor = 'center'),\n",
    "    legend = dict(x = 0.7, y = 1.1)\n",
    ")\n",
    "\n",
    "fig = go.Figure(data = data_change, layout = layout)\n",
    "\n",
    "pyo.plot(fig, filename = 'change_cases.html')"
   ]
  },
  {
   "cell_type": "code",
   "execution_count": null,
   "metadata": {},
   "outputs": [],
   "source": [
    "#ploting moving average (3 Day) for all the cases change\n",
    "data_change = []\n",
    "changes = list(df1.columns)[4:]\n",
    "\n",
    "for change in changes:\n",
    "    data = go.Scatter(x = df1.index,\n",
    "                  y = df1[change].rolling(3).mean().round(2),\n",
    "                  name = change,\n",
    "                  fill='tozeroy',\n",
    "                  text = df1[change].rolling(3).mean().round(2),\n",
    "                  hoverinfo = 'x+text+name')\n",
    "    data_change.append(data)\n",
    "\n",
    "layout = go.Layout(\n",
    "    plot_bgcolor='white',\n",
    "    autosize = True,\n",
    "    xaxis = dict(rangeslider_visible = True),\n",
    "    yaxis = dict(title = 'Per day case', fixedrange = False),\n",
    "    title = dict(text = 'Daily COVID cases (3 Day Moving Average)', x = 0.5, y = 0.9, xanchor = 'center'),\n",
    "    legend = dict(x = 0.7, y = 1.1)\n",
    ")\n",
    "\n",
    "fig = go.Figure(data = data_change, layout = layout)\n",
    "\n",
    "pyo.plot(fig, filename = 'change_cases_3ma.html')"
   ]
  },
  {
   "cell_type": "code",
   "execution_count": null,
   "metadata": {},
   "outputs": [],
   "source": [
    "columns = list(df1.columns)\n",
    "stacks = []\n",
    "stacks.append(columns[0])\n",
    "stacks.append(columns[1])\n",
    "stacks.append(columns[3])\n",
    "stacks"
   ]
  },
  {
   "cell_type": "code",
   "execution_count": null,
   "metadata": {},
   "outputs": [],
   "source": [
    "#plotting break up of confirmed cases across the time period.\n",
    "bar_change = []\n",
    "\n",
    "for stack in stacks:\n",
    "    data = go.Bar(x = df1.index,\n",
    "                  y = df1[stack],\n",
    "                  name = stack)\n",
    "    bar_change.append(data)\n",
    "    \n",
    "data = go.Scatter(x = df1.index,\n",
    "                  y = df1.Confirmed,\n",
    "                  line = dict(dash = 'dashdot', color = 'black'),\n",
    "                  name = 'Confirmed')\n",
    "bar_change.append(data)\n",
    "\n",
    "layout = go.Layout(\n",
    "    plot_bgcolor='rgba(0,0,0,0)',\n",
    "    autosize = True,\n",
    "    xaxis = dict(rangeslider_visible = True),\n",
    "    yaxis = dict(title = 'Per day case', fixedrange = False),\n",
    "    title = dict(text = 'Daily COVID cases', x = 0.5, y = 0.9, xanchor = 'center'),\n",
    "    legend = dict(x = 0.7, y = 1.1),\n",
    "    barmode = 'stack'\n",
    ")\n",
    "\n",
    "fig = go.Figure(data = bar_change, layout = layout)\n",
    "\n",
    "pyo.plot(fig, filename = 'Confirmed_breakup.html')"
   ]
  },
  {
   "cell_type": "code",
   "execution_count": null,
   "metadata": {},
   "outputs": [],
   "source": [
    "#plotting per day change in different types of cases on log scale\n",
    "data_change = []\n",
    "changes = list(df1.columns)[4:]\n",
    "\n",
    "for change in changes:\n",
    "    data = go.Scatter(x = df1.index,\n",
    "                  y = np.log(df1[change]),\n",
    "                  name = change,\n",
    "                  fill='tozeroy',\n",
    "                  text = df1[change],\n",
    "                  hoverinfo = 'x + text + name')\n",
    "    data_change.append(data)\n",
    "\n",
    "layout = go.Layout(\n",
    "    plot_bgcolor='white',\n",
    "    autosize = True,\n",
    "    xaxis = dict(rangeslider_visible = True),\n",
    "    yaxis = dict(title = 'Per day case', fixedrange = False),\n",
    "    title = dict(text = 'Daily COVID cases (Log Scale)', x = 0.5, y = 0.9, xanchor = 'center'),\n",
    "    legend = dict(x = 0.7, y = 1.1)\n",
    ")\n",
    "\n",
    "fig = go.Figure(data = data_change, layout = layout)\n",
    "\n",
    "pyo.plot(fig, filename = 'log_change_cases.html')"
   ]
  },
  {
   "cell_type": "code",
   "execution_count": null,
   "metadata": {},
   "outputs": [],
   "source": [
    "#plotting per day change (3 Day moving average) in different types of cases on log scale\n",
    "data_change = []\n",
    "changes = list(df1.columns)[4:]\n",
    "\n",
    "for change in changes:\n",
    "    data = go.Scatter(x = df1.index,\n",
    "                  y = np.log(df1[change].rolling(3).mean()),\n",
    "                  name = change,\n",
    "                  fill='tozeroy',\n",
    "                  text = df1[change].rolling(3).mean().round(2),\n",
    "                  hoverinfo = 'x + text + name')\n",
    "    data_change.append(data)\n",
    "\n",
    "layout = go.Layout(\n",
    "    plot_bgcolor='white',\n",
    "    autosize = True,\n",
    "    xaxis = dict(rangeslider_visible = True),\n",
    "    yaxis = dict(title = 'Per day case', fixedrange = False),\n",
    "    title = dict(text = 'Daily COVID cases (3 Day Moving Average)', x = 0.5, y = 0.9, xanchor = 'center'),\n",
    "    legend = dict(x = 1, y = 1.1)\n",
    ")\n",
    "\n",
    "fig = go.Figure(data = data_change, layout = layout)\n",
    "\n",
    "pyo.plot(fig, filename = 'log_change_cases_3ma.html')"
   ]
  },
  {
   "cell_type": "code",
   "execution_count": null,
   "metadata": {},
   "outputs": [],
   "source": [
    "states = list(df.state_UT.unique())\n",
    "states"
   ]
  },
  {
   "cell_type": "code",
   "execution_count": null,
   "metadata": {},
   "outputs": [],
   "source": [
    "#grouping the cases based on states and dates to create separate timelines for each state.\n",
    "df_new = df.groupby(['state_UT', 'Date']).sum().diff().clip(0)\n",
    "df_new.head()"
   ]
  },
  {
   "cell_type": "code",
   "execution_count": null,
   "metadata": {},
   "outputs": [],
   "source": [
    "df_new['Active'] = df_new['Confirmed'] - df_new['Cured'] - df_new['Deaths']\n",
    "df_new.head()"
   ]
  },
  {
   "cell_type": "code",
   "execution_count": null,
   "metadata": {},
   "outputs": [],
   "source": [
    "#plotting heat map for complete time period for each state on log scale\n",
    "\n",
    "for column in list(df_new.columns):\n",
    "    data = go.Heatmap(z = np.log(df_new[column]),\n",
    "                 x = df_new.index.get_level_values(1),\n",
    "                 y = df_new.index.get_level_values(0),\n",
    "                 text = df_new[column],\n",
    "                 hoverinfo = 'x+y+text',\n",
    "                 ygap = 2,\n",
    "                 xgap = 2,\n",
    "                 colorscale = 'Rainbow')\n",
    "\n",
    "    layout = go.Layout(\n",
    "        title = dict(text = 'State-wise Daily ' + str(column) + ' Cases on Log Scale',\n",
    "                     x = 0.5,\n",
    "                     xref = 'paper'),\n",
    "        height = 1000,\n",
    "        autosize = True,\n",
    "        yaxis = dict(autorange = 'reversed', fixedrange = False),\n",
    "        xaxis = dict(type = 'date',\n",
    "        dtick = 'M1', rangeslider_visible = True))\n",
    "    fig = go.Figure(data = data, layout = layout)\n",
    "    pyo.plot(fig, filename = 'daily_covid_' + str(column) + '_heatmap.html')"
   ]
  },
  {
   "cell_type": "code",
   "execution_count": null,
   "metadata": {},
   "outputs": [],
   "source": [
    "df_ma = df_new.copy()\n",
    "df_ma.head()"
   ]
  },
  {
   "cell_type": "code",
   "execution_count": null,
   "metadata": {},
   "outputs": [],
   "source": [
    "#finding 3 day moving average af all category of cases.\n",
    "for state in states:\n",
    "    df_ma[df_ma.index.get_level_values(0) == state] = df_ma[df_ma.index.get_level_values(0) == state].rolling(3).mean().round(2)\n",
    "df_ma.head()"
   ]
  },
  {
   "cell_type": "code",
   "execution_count": null,
   "metadata": {},
   "outputs": [],
   "source": [
    "#plotting heat map for complete time period for each state on log scale (3 Day Moving Average)\n",
    "for column in list(df_ma.columns):\n",
    "    data = go.Heatmap(z = np.log(df_ma[column]),\n",
    "                 x = df_ma.index.get_level_values(1),\n",
    "                 y = df_ma.index.get_level_values(0),\n",
    "                 text = df_ma[column],\n",
    "                 hoverinfo = 'x+y+text',\n",
    "                 ygap = 2,\n",
    "                 xgap = 2,\n",
    "                 colorscale = 'Rainbow')\n",
    "\n",
    "    layout = go.Layout(\n",
    "        title = dict(text = 'State-wise Daily ' + str(column) + ' Cases on Log Scale (3 Day Moving Average)',\n",
    "                     x = 0.5,\n",
    "                     xref = 'paper'),\n",
    "        height = 1000,\n",
    "        autosize = True,\n",
    "        yaxis = dict(autorange = 'reversed', fixedrange = False),\n",
    "        xaxis = dict(type = 'date',\n",
    "        dtick = 'M1', rangeslider_visible = True))\n",
    "    fig = go.Figure(data = data, layout = layout)\n",
    "    pyo.plot(fig, filename = '3dma_daily_covid_' + str(column) + '_heatmap.html')"
   ]
  },
  {
   "cell_type": "markdown",
   "metadata": {},
   "source": [
    "### RATE CALCULATION"
   ]
  },
  {
   "cell_type": "code",
   "execution_count": null,
   "metadata": {},
   "outputs": [],
   "source": [
    "#calculating the recovery and case fatality rates and plotting\n",
    "df_rate = df[['Date', 'state_UT', 'Cured', 'Deaths', 'Confirmed']].groupby(['Date']).sum()\n",
    "df_rate.head()"
   ]
  },
  {
   "cell_type": "code",
   "execution_count": null,
   "metadata": {},
   "outputs": [],
   "source": [
    "df_rate['recovery_rate'] = round(df_rate.Cured/df_rate.Confirmed, 4)*100\n",
    "df_rate['case_fatality_rate'] = round(df_rate.Deaths/df_rate.Confirmed, 4)*100\n",
    "df_rate.tail()"
   ]
  },
  {
   "cell_type": "code",
   "execution_count": null,
   "metadata": {},
   "outputs": [],
   "source": [
    "#Plotting recovery rate and fatality rate across the timeperiod for India\n",
    "rate_data = []\n",
    "text1 = []\n",
    "text2 = []\n",
    "for row in df_rate.itertuples(): \n",
    "    text1.append((\n",
    "        'Date: {index:%Y-%m-%d}<br>' +\n",
    "        'Recovery Rate: {rate:.2f}%<br>' +\n",
    "        'No of Confirmed Cases: {case:,}').format(index = row[0], \n",
    "                                                rate = row[4], \n",
    "                                                case = row[3]))\n",
    "    text2.append((\n",
    "        'Date: {index:%Y-%m-%d}<br>' +\n",
    "        'Case Fatality Rate: {rate:.2f}%<br>' +\n",
    "        'No of Confirmed Cases: {case:,}').format(index = row[0], \n",
    "                                                rate = row[5], \n",
    "                                                case = row[3]))\n",
    "\n",
    "    \n",
    "data1 = go.Scatter(x = df_rate.index,\n",
    "                  y = df_rate.recovery_rate,\n",
    "                  line = dict(dash = 'dashdot', color = 'black'),\n",
    "                  name = 'Recovery Rate',\n",
    "                  text = text1,\n",
    "                  hoverinfo = 'text')\n",
    "\n",
    "data2 = go.Scatter(x = df_rate.index,\n",
    "                   y = df_rate.case_fatality_rate,\n",
    "                   line = dict(dash = 'dash', color = 'red'),\n",
    "                   name = 'Case Fatality Rate',\n",
    "                   text = text2,\n",
    "                   hoverinfo = 'text')\n",
    "rate_data.append(data1)\n",
    "rate_data.append(data2)\n",
    "\n",
    "layout = go.Layout(\n",
    "    plot_bgcolor='white',\n",
    "    autosize = True,\n",
    "    xaxis = dict(rangeslider_visible = True),\n",
    "    yaxis = dict(title = 'Rates', ticksuffix = '%', fixedrange = False),\n",
    "    title = dict(text = 'Recovery and Case Fatality Rate', x = 0.5, xref = 'paper')\n",
    ")\n",
    "\n",
    "fig = go.Figure(data = rate_data, layout = layout)\n",
    "\n",
    "pyo.plot(fig, filename = 'covid_rate_trend.html')"
   ]
  },
  {
   "cell_type": "code",
   "execution_count": null,
   "metadata": {},
   "outputs": [],
   "source": [
    "#calculating rates state wise\n",
    "df_project_rate = df[['Date', 'state_UT', 'Cured', 'Deaths', 'Confirmed']].groupby(['state_UT', 'Date']).sum()\n",
    "df_project_rate.head()"
   ]
  },
  {
   "cell_type": "code",
   "execution_count": null,
   "metadata": {},
   "outputs": [],
   "source": [
    "df_project_rate['recovery_rate'] = round(df_project_rate.Cured/df_project_rate.Confirmed, 4)*100\n",
    "df_project_rate['case_fatality_rate'] = round(df_project_rate.Deaths/df_project_rate.Confirmed, 4)*100\n",
    "df_project_rate.tail()"
   ]
  },
  {
   "cell_type": "code",
   "execution_count": null,
   "metadata": {},
   "outputs": [],
   "source": [
    "#plotting state wise case fatality rate\n",
    "state_data = []\n",
    "  \n",
    "for state in list(df_project_rate.index.get_level_values(0).unique()):\n",
    "    text = []\n",
    "    for row in df_project_rate[df_project_rate.index.get_level_values(0) == state].itertuples():\n",
    "        text.append((\n",
    "            'State/ UT: {state}<br>' +\n",
    "            'Date: {date:%Y-%m-%d}<br>' +\n",
    "            'Case Fatality Rate: {rate:.2f}%<br>' +\n",
    "            'No of Confirmed Cases: {case:,}').format(state = row[0][0],\n",
    "                                                      date = row[0][1],\n",
    "                                                      rate = row[5],\n",
    "                                                      case = row[3]))\n",
    "   \n",
    "    data = go.Scatter(x = df_project_rate.loc[df_project_rate.index.get_level_values(0) == state].index.get_level_values(1),\n",
    "                   y = df_project_rate.loc[df_project_rate.index.get_level_values(0) == state].case_fatality_rate,\n",
    "                   name = str(state),\n",
    "                   text = text,\n",
    "                   hoverinfo = 'text')\n",
    "    state_data.append(data)\n",
    "    \n",
    "layout = go.Layout(\n",
    "    plot_bgcolor='white',\n",
    "    autosize = True,\n",
    "    xaxis = dict(rangeslider_visible = True),\n",
    "    yaxis = dict(title = 'Rates', ticksuffix = '%', fixedrange = False),\n",
    "    title = dict(text = 'state-wise Case Fatality Rate', x = 0.5, xref = 'paper'),\n",
    "    legend = dict(itemclick = 'toggleothers')\n",
    ")\n",
    "\n",
    "fig = go.Figure(data = state_data, layout = layout)\n",
    "\n",
    "pyo.plot(fig, filename = 'state_wise_fatality_rate.html')"
   ]
  },
  {
   "cell_type": "code",
   "execution_count": null,
   "metadata": {},
   "outputs": [],
   "source": [
    "#plotting state wise recovery rate\n",
    "state_data = []\n",
    "    \n",
    "for state in list(df_project_rate.index.get_level_values(0).unique()):\n",
    "    text = []\n",
    "    for row in df_project_rate[df_project_rate.index.get_level_values(0) == state].itertuples():\n",
    "        text.append((\n",
    "            'State/ UT: {state}<br>' +\n",
    "            'Date: {date:%Y-%m-%d}<br>' +\n",
    "            'Recovery Rate: {rate:.2f}%<br>' +\n",
    "            'No of Confirmed Cases: {case:,}').format(state = row[0][0],\n",
    "                                                      date = row[0][1],\n",
    "                                                      rate = row[4],\n",
    "                                                      case = row[3]))\n",
    "    data = go.Scatter(x = df_project_rate.loc[df_project_rate.index.get_level_values(0) == state].index.get_level_values(1),\n",
    "                   y = df_project_rate.loc[df_project_rate.index.get_level_values(0) == state].recovery_rate,\n",
    "                   name = str(state),\n",
    "                   text = text,\n",
    "                   hoverinfo = 'text')\n",
    "    state_data.append(data)\n",
    "    \n",
    "layout = go.Layout(\n",
    "    plot_bgcolor='white',\n",
    "    autosize = True,\n",
    "    yaxis = dict(title = 'Rates', ticksuffix = '%', fixedrange = False),\n",
    "    xaxis = dict(rangeslider_visible = True),\n",
    "    title = dict(text = 'state-wise Recovery Rate', x = 0.5, xref = 'paper'),\n",
    "    legend = dict(itemclick = 'toggleothers')\n",
    ")\n",
    "\n",
    "fig = go.Figure(data = state_data, layout = layout)\n",
    "\n",
    "pyo.plot(fig, filename = 'state_wise_recovery_rate.html')"
   ]
  },
  {
   "cell_type": "markdown",
   "metadata": {},
   "source": [
    "## Test vs Confirmed Comparison"
   ]
  },
  {
   "cell_type": "code",
   "execution_count": null,
   "metadata": {},
   "outputs": [],
   "source": [
    "#Analysing testing across the states\n",
    "df_test = pd.read_csv('StatewiseTestingDetails_22_09.csv')\n",
    "df_test.head()"
   ]
  },
  {
   "cell_type": "code",
   "execution_count": null,
   "metadata": {},
   "outputs": [],
   "source": [
    "df_test.drop(columns = ['Negative', 'Positive'], inplace = True)\n",
    "df_test.head()"
   ]
  },
  {
   "cell_type": "code",
   "execution_count": null,
   "metadata": {},
   "outputs": [],
   "source": [
    "df_test['Date'] = pd.to_datetime(df_test['Date'], dayfirst = True)\n",
    "df_test['State'] = df_test['State'].str.replace('Telengana***', 'Telengana', regex = False)\n",
    "df_test['State'] = df_test['State'].str.replace('Telangana***', 'Telengana', regex = False)\n",
    "df_test['State'] = df_test['State'].str.replace('Telangana', 'Telengana', regex = False)\n",
    "df_test.head()"
   ]
  },
  {
   "cell_type": "code",
   "execution_count": null,
   "metadata": {},
   "outputs": [],
   "source": [
    "#plotting testing numbers across the states\n",
    "states = df_test['State'].unique()\n",
    "\n",
    "data_states = []\n",
    "n = 0\n",
    "for state in states:\n",
    "    data = go.Scatter(x = df_test[df_test['State'] == state].Date,\n",
    "                  y = df_test[df_test['State'] == state].TotalSamples,\n",
    "                  name = state)\n",
    "    data_states.append(data)\n",
    "    n +=1\n",
    "    \n",
    "layout = go.Layout(\n",
    "    plot_bgcolor='rgba(0,0,0,0)',\n",
    "    title = dict(text = 'Total Samples collected State-wise'),\n",
    "    xaxis = dict(rangeslider_visible = True),\n",
    "    yaxis = dict(fixedrange = False),\n",
    "    autosize = True\n",
    ")\n",
    "\n",
    "fig = go.Figure(data = data_states, layout = layout)\n",
    "\n",
    "pyo.plot(fig, filename = 'Test_Comparison_states.html')"
   ]
  },
  {
   "cell_type": "code",
   "execution_count": null,
   "metadata": {},
   "outputs": [],
   "source": [
    "df_test_group = df_test.groupby(['Date']).sum()\n",
    "df_test_group.head()"
   ]
  },
  {
   "cell_type": "code",
   "execution_count": null,
   "metadata": {},
   "outputs": [],
   "source": [
    "#plotting cummulative testing/ sample data\n",
    "data = go.Scatter(x = df_test_group.index,\n",
    "                  y = df_test_group.TotalSamples,\n",
    "                  name = 'Total Samples collected',\n",
    "                  fill='tozeroy')\n",
    "\n",
    "layout = go.Layout(\n",
    "    plot_bgcolor='rgba(0,0,0,0)',\n",
    "    title = dict(text = 'Total Cummulative Test Samples Collected'),\n",
    "    xaxis = dict(rangeslider_visible = True),\n",
    "    yaxis = dict(fixedrange = False),\n",
    "    autosize = True\n",
    ")\n",
    "\n",
    "fig = go.Figure(data = data, layout = layout)\n",
    "\n",
    "pyo.plot(fig, filename = 'Test_cummulative_data.html')"
   ]
  },
  {
   "cell_type": "code",
   "execution_count": null,
   "metadata": {},
   "outputs": [],
   "source": [
    "df_test_group['test_change'] = df_test_group.TotalSamples.diff().clip(0)\n",
    "df_test_group.head()"
   ]
  },
  {
   "cell_type": "code",
   "execution_count": null,
   "metadata": {},
   "outputs": [],
   "source": [
    "#plotting per day testing data\n",
    "data = go.Bar(x = df_test_group.index,\n",
    "              y = df_test_group.test_change,\n",
    "              name = 'Per Day Change'\n",
    "             )\n",
    "\n",
    "layout = go.Layout(bargap = 0.2,\n",
    "                   plot_bgcolor = 'white',\n",
    "                   title = dict(text = 'Per Day Test Samples collected'),\n",
    "                   xaxis = dict(title = 'Date', rangeslider_visible = True),\n",
    "                   yaxis = dict(title = 'Per Day Change', fixedrange = False),\n",
    "                   autosize = True,\n",
    "                   \n",
    "                  )\n",
    "\n",
    "fig = go.Figure(data = data, layout = layout)\n",
    "pyo.plot(fig, filename = 'Test_change.html')"
   ]
  },
  {
   "cell_type": "code",
   "execution_count": null,
   "metadata": {},
   "outputs": [],
   "source": [
    "#plotting per day testing data (3 Day moving average)\n",
    "data = go.Bar(x = df_test_group.index,\n",
    "              y = df_test_group.test_change.rolling(3).mean().round(2),\n",
    "              name = 'Per Day Change (3 Day Moving Average)'\n",
    "             )\n",
    "\n",
    "layout = go.Layout(bargap = 0.2,\n",
    "                   plot_bgcolor = 'white',\n",
    "                   title = dict(text = 'Per Day Test Samples collected (3 Day Moving Average)'),\n",
    "                   xaxis = dict(title = 'Date', rangeslider_visible = True),\n",
    "                   yaxis = dict(title = 'Per Day Change', fixedrange = False),\n",
    "                   autosize = True,\n",
    "                   \n",
    "                  )\n",
    "\n",
    "fig = go.Figure(data = data, layout = layout)\n",
    "pyo.plot(fig, filename = 'Test_change_3dma.html')"
   ]
  },
  {
   "cell_type": "code",
   "execution_count": null,
   "metadata": {},
   "outputs": [],
   "source": [
    "#plotting comparision between per day testing and per day positive cases \n",
    "data1 = go.Bar(x = df_test_group.index,\n",
    "              y = df_test_group.test_change,\n",
    "              name = 'Per Day Test Change'\n",
    "             )\n",
    "\n",
    "data2 = go.Scatter(x = df1.index,\n",
    "               y = df1.confirmed_change,\n",
    "               name = 'Per Day Confirmed Change',\n",
    "               yaxis = 'y2',\n",
    "                   mode = 'lines'\n",
    "            )\n",
    "\n",
    "data_trace = [data1, data2]\n",
    "\n",
    "layout = go.Layout(bargap = 0.2,\n",
    "                   barmode = 'group',\n",
    "                   plot_bgcolor = 'white',\n",
    "                   title = dict(text = 'Per Day Test Samples Collected v/s Confirmed Cases'),\n",
    "                   xaxis = dict(title = 'Date', rangeslider_visible = True),\n",
    "                   yaxis = dict(title = 'Per Day Change Confirmed Cases', fixedrange = False),\n",
    "                   yaxis2 = dict(title = 'Per Day Change Test Cases', \n",
    "                                 fixedrange = False,\n",
    "                                 side = 'right',\n",
    "                                 overlaying = 'y'\n",
    "                                ),\n",
    "                   autosize = True,\n",
    "                   \n",
    "                  )\n",
    "\n",
    "fig = go.Figure(data = data_trace, layout = layout)\n",
    "pyo.plot(fig, filename = 'test_comparison_change.html')"
   ]
  },
  {
   "cell_type": "code",
   "execution_count": null,
   "metadata": {},
   "outputs": [],
   "source": [
    "#plotting comparision between per day testing and per day positive cases (3 Day moving average)\n",
    "data1 = go.Bar(x = df_test_group.index,\n",
    "              y = df_test_group.test_change.rolling(3).mean().round(2),\n",
    "              name = 'Per Day Test Change (3 Day Moving Average)'\n",
    "             )\n",
    "\n",
    "data2 = go.Scatter(x = df1.index,\n",
    "               y = df1.confirmed_change.rolling(3).mean().round(2),\n",
    "               name = 'Per Day Confirmed Change (3 Day Moving Average)',\n",
    "               yaxis = 'y2',\n",
    "                   mode = 'lines'\n",
    "            )\n",
    "\n",
    "data_trace = [data1, data2]\n",
    "\n",
    "layout = go.Layout(bargap = 0.2,\n",
    "                   barmode = 'group',\n",
    "                   plot_bgcolor = 'white',\n",
    "                   title = dict(text = 'Per Day Test Samples Collected v/s Confirmed Cases (3 Day Moving Average)'),\n",
    "                   xaxis = dict(title = 'Date', rangeslider_visible = True),\n",
    "                   yaxis = dict(title = 'Per Day Change Confirmed Cases', fixedrange = False),\n",
    "                   yaxis2 = dict(title = 'Per Day Change Test Cases', \n",
    "                                 fixedrange = False,\n",
    "                                 side = 'right',\n",
    "                                 overlaying = 'y'\n",
    "                                ),\n",
    "                   autosize = True,\n",
    "                   \n",
    "                  )\n",
    "\n",
    "fig = go.Figure(data = data_trace, layout = layout)\n",
    "pyo.plot(fig, filename = 'test_comparison_change_3dma.html')"
   ]
  },
  {
   "cell_type": "code",
   "execution_count": null,
   "metadata": {},
   "outputs": [],
   "source": [
    "df_test_new = df_test.groupby(['State', 'Date']).sum().diff().clip(0)\n",
    "df_test_new.head()"
   ]
  },
  {
   "cell_type": "code",
   "execution_count": null,
   "metadata": {},
   "outputs": [],
   "source": [
    "states = list(df_test_new.index.get_level_values(0).unique())"
   ]
  },
  {
   "cell_type": "code",
   "execution_count": null,
   "metadata": {},
   "outputs": [],
   "source": [
    "for state in states:\n",
    "    df_test_new[df_test_new.index.get_level_values(0) == state] = df_test_new[df_test_new.index.get_level_values(0) == state].rolling(3).mean().round(2)\n",
    "df_test_new.head()"
   ]
  },
  {
   "cell_type": "code",
   "execution_count": null,
   "metadata": {},
   "outputs": [],
   "source": [
    "#plotting per day testing heat map (3 Day moving average) on log scale\n",
    "data = go.Heatmap(z = np.log(df_test_new.TotalSamples),\n",
    "                 x = df_test_new.index.get_level_values(1),\n",
    "                 y = df_test_new.index.get_level_values(0),\n",
    "                 text = df_test_new.TotalSamples,\n",
    "                 hoverinfo = 'x+y+text',\n",
    "                 ygap = 2,\n",
    "                 xgap = 2,\n",
    "                 colorscale = 'Rainbow')\n",
    "layout = go.Layout(\n",
    "        title = dict(text = 'State-wise Daily ' + str(column) + ' Test Cases on Log Scale (3 Day Moving Average)',\n",
    "                     x = 0.5,\n",
    "                     xref = 'paper'),\n",
    "        height = 1000,\n",
    "        autosize = True,\n",
    "        yaxis = dict(autorange = 'reversed', fixedrange = False),\n",
    "        xaxis = dict(type = 'date',\n",
    "                     dtick = 'M1', rangeslider_visible = True))\n",
    "fig = go.Figure(data = data, layout = layout)\n",
    "pyo.plot(fig, filename = 'test_3dma_daily_covid_heatmap.html')"
   ]
  },
  {
   "cell_type": "code",
   "execution_count": null,
   "metadata": {},
   "outputs": [],
   "source": [
    "df_test_group.head()"
   ]
  },
  {
   "cell_type": "code",
   "execution_count": null,
   "metadata": {},
   "outputs": [],
   "source": [
    "df1.head()"
   ]
  },
  {
   "cell_type": "code",
   "execution_count": null,
   "metadata": {},
   "outputs": [],
   "source": [
    "df_combine = pd.concat([df_test_group, df1[['Confirmed', 'confirmed_change']]], axis = 1, join = 'outer')"
   ]
  },
  {
   "cell_type": "code",
   "execution_count": null,
   "metadata": {},
   "outputs": [],
   "source": [
    "df_combine.head()"
   ]
  },
  {
   "cell_type": "code",
   "execution_count": null,
   "metadata": {},
   "outputs": [],
   "source": [
    "df_combine['positive_rate'] = round((df_combine.Confirmed/df_combine.TotalSamples)*100, 2)\n",
    "df_combine.tail()"
   ]
  },
  {
   "cell_type": "code",
   "execution_count": null,
   "metadata": {},
   "outputs": [],
   "source": [
    "df_combine['daily_positive_rate'] = round((df_combine.confirmed_change/df_combine.test_change)*100, 2).clip(0)\n",
    "df_combine.tail()"
   ]
  },
  {
   "cell_type": "code",
   "execution_count": null,
   "metadata": {},
   "outputs": [],
   "source": [
    "#plotting cummulative and per day test positive rate\n",
    "data1 = go.Bar(x = df_combine.index,\n",
    "               y = df_combine.daily_positive_rate,\n",
    "               name = 'Daily Test Positive Rate'\n",
    "              )\n",
    "\n",
    "data2 = go.Scatter(x = df_combine.index,\n",
    "                   y = df_combine.positive_rate,\n",
    "                   name = 'Test Positive Rate'\n",
    "                  )\n",
    "\n",
    "data_trace = [data1, data2]\n",
    "\n",
    "layout = go.Layout(plot_bgcolor = 'white',\n",
    "                   bargap = 0.2,\n",
    "                   autosize = True,\n",
    "                   title = dict(text = 'Daily and Cummulative Test Positive Rate'),\n",
    "                   yaxis = dict(title = 'Rates', fixedrange = False),\n",
    "                   xaxis = dict(title = 'Dates', rangeslider_visible = True)\n",
    "                  )\n",
    "    \n",
    "fig = go.Figure(data = data_trace, layout = layout)\n",
    "pyo.plot(fig, filename = 'test_positive_rate.html')"
   ]
  },
  {
   "cell_type": "code",
   "execution_count": null,
   "metadata": {},
   "outputs": [],
   "source": [
    "#plotting cummulative and per day test positive rate (3 Day moving average)\n",
    "data1 = go.Bar(x = df_combine.index,\n",
    "               y = df_combine.daily_positive_rate.rolling(3).mean(),\n",
    "               name = 'Daily Test Positive Rate'\n",
    "              )\n",
    "\n",
    "data2 = go.Scatter(x = df_combine.index,\n",
    "                   y = df_combine.positive_rate.rolling(3).mean(),\n",
    "                   name = 'Test Positive Rate'\n",
    "                  )\n",
    "\n",
    "data_trace = [data1, data2]\n",
    "\n",
    "layout = go.Layout(plot_bgcolor = 'white',\n",
    "                   bargap = 0.2,\n",
    "                   autosize = True,\n",
    "                   title = dict(text = 'Daily and Cummulative Test Positive Rate (3 Day Moving Average)'),\n",
    "                   yaxis = dict(title = 'Rates', fixedrange = False),\n",
    "                   xaxis = dict(title = 'Dates', rangeslider_visible = True)\n",
    "                  )\n",
    "    \n",
    "fig = go.Figure(data = data_trace, layout = layout)\n",
    "pyo.plot(fig, filename = 'test_3dma_positive_rate.html')"
   ]
  },
  {
   "cell_type": "markdown",
   "metadata": {},
   "source": [
    "#### Note: You may find some discrepancy in covid test details, this I owe to the testing dataset, since few major datapoints are missing."
   ]
  },
  {
   "cell_type": "markdown",
   "metadata": {},
   "source": [
    "### Thank you for going through this notebook.\n",
    "\n",
    "-Minhaj Ahmed Ansari"
   ]
  }
 ],
 "metadata": {
  "kernelspec": {
   "display_name": "Python 3",
   "language": "python",
   "name": "python3"
  },
  "language_info": {
   "codemirror_mode": {
    "name": "ipython",
    "version": 3
   },
   "file_extension": ".py",
   "mimetype": "text/x-python",
   "name": "python",
   "nbconvert_exporter": "python",
   "pygments_lexer": "ipython3",
   "version": "3.8.5"
  }
 },
 "nbformat": 4,
 "nbformat_minor": 4
}
